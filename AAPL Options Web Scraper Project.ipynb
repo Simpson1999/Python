{
 "cells": [
  {
   "cell_type": "code",
   "execution_count": 2,
   "id": "f144b6f3",
   "metadata": {},
   "outputs": [],
   "source": [
    "import requests\n",
    "import smtplib"
   ]
  },
  {
   "cell_type": "code",
   "execution_count": 3,
   "id": "67416292",
   "metadata": {},
   "outputs": [],
   "source": [
    "api_key = '2cefeb15a493410c7856afea1dccc226'"
   ]
  },
  {
   "cell_type": "code",
   "execution_count": 4,
   "id": "d1750be5",
   "metadata": {},
   "outputs": [],
   "source": [
    "aapl_prices = requests.get(f'https://financialmodelingprep.com/api/v3/quote/AAPL?apikey=2cefeb15a493410c7856afea1dccc226').json()"
   ]
  },
  {
   "cell_type": "code",
   "execution_count": 5,
   "id": "d7820553",
   "metadata": {},
   "outputs": [
    {
     "name": "stdout",
     "output_type": "stream",
     "text": [
      "[{'symbol': 'AAPL', 'name': 'Apple Inc.', 'price': 172.93, 'changesPercentage': 0.4822699, 'change': 0.8299866, 'dayLow': 171.345, 'dayHigh': 172.9382, 'yearHigh': 182.94, 'yearLow': 129.04, 'marketCap': 2779123286016.0, 'priceAvg50': 148.778, 'priceAvg200': 159.8798, 'volume': 23232300, 'avgVolume': 80404119, 'exchange': 'NASDAQ', 'open': 171.52, 'previousClose': 172.1, 'eps': 6.05, 'pe': 28.58347, 'earningsAnnouncement': '2022-10-26T20:00:00.000+0000', 'sharesOutstanding': 16070799086, 'timestamp': 1660578276}]\n"
     ]
    }
   ],
   "source": [
    "print(aapl_prices)"
   ]
  },
  {
   "cell_type": "code",
   "execution_count": 6,
   "id": "a6e9c814",
   "metadata": {},
   "outputs": [
    {
     "name": "stdout",
     "output_type": "stream",
     "text": [
      "172.93\n"
     ]
    }
   ],
   "source": [
    "aapl_stock_price = aapl_prices[0]['price']\n",
    "print(aapl_stock_price)"
   ]
  },
  {
   "cell_type": "code",
   "execution_count": 9,
   "id": "e2e97765",
   "metadata": {},
   "outputs": [],
   "source": [
    "def send_mail():\n",
    "    server = smtplib.SMTP_SSL('smtp.gmail.com',465)\n",
    "    server.ehlo()\n",
    "    #server.starttls()\n",
    "    server.ehlo()\n",
    "    server.login('9957182@gmail.com','XXXXXX')\n",
    "    \n",
    "    subject = \"The AAPL stock you want is below your price target! Now is your chance to buy!\"\n",
    "    body = \"Stephen, This is the moment we have been waiting for. Now is your chance to pick up the Apple stock price of your dreams. Don't mess it up!\"\n",
    "    \n",
    "   \n",
    "    msg = f\"Subject: {subject}\\n\\n{body}\"\n",
    "    \n",
    "    server.sendmail(\n",
    "        '9957182@gmail.com',\n",
    "        msg\n",
    "     \n",
    "    )\n",
    "    print('email is sent')\n",
    "    server.quit()\n",
    "    \n",
    "if aapl_stock_price < 170:\n",
    "    send_mail()\n",
    "    \n",
    "\n",
    "    \n",
    "    "
   ]
  },
  {
   "cell_type": "code",
   "execution_count": null,
   "id": "b3275b58",
   "metadata": {},
   "outputs": [],
   "source": []
  }
 ],
 "metadata": {
  "kernelspec": {
   "display_name": "Python 3 (ipykernel)",
   "language": "python",
   "name": "python3"
  },
  "language_info": {
   "codemirror_mode": {
    "name": "ipython",
    "version": 3
   },
   "file_extension": ".py",
   "mimetype": "text/x-python",
   "name": "python",
   "nbconvert_exporter": "python",
   "pygments_lexer": "ipython3",
   "version": "3.9.12"
  }
 },
 "nbformat": 4,
 "nbformat_minor": 5
}
