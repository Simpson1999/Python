{
 "cells": [
  {
   "cell_type": "code",
   "execution_count": 2,
   "id": "3323a63d",
   "metadata": {
    "scrolled": true
   },
   "outputs": [
    {
     "name": "stdout",
     "output_type": "stream",
     "text": [
      "{'status': {'timestamp': '2022-08-31T16:01:12.007Z', 'error_code': 0, 'error_message': None, 'elapsed': 23, 'credit_count': 1, 'notice': None, 'total_count': 9608}, 'data': [{'id': 1, 'name': 'Bitcoin', 'symbol': 'BTC', 'slug': 'bitcoin', 'num_market_pairs': 9713, 'date_added': '2013-04-28T00:00:00.000Z', 'tags': ['mineable', 'pow', 'sha-256', 'store-of-value', 'state-channel', 'coinbase-ventures-portfolio', 'three-arrows-capital-portfolio', 'polychain-capital-portfolio', 'binance-labs-portfolio', 'blockchain-capital-portfolio', 'boostvc-portfolio', 'cms-holdings-portfolio', 'dcg-portfolio', 'dragonfly-capital-portfolio', 'electric-capital-portfolio', 'fabric-ventures-portfolio', 'framework-ventures-portfolio', 'galaxy-digital-portfolio', 'huobi-capital-portfolio', 'alameda-research-portfolio', 'a16z-portfolio', '1confirmation-portfolio', 'winklevoss-capital-portfolio', 'usv-portfolio', 'placeholder-ventures-portfolio', 'pantera-capital-portfolio', 'multicoin-capital-portfolio', 'paradigm-portfolio'], 'max_supply': 21000000, 'circulating_supply': 19137637, 'total_supply': 19137637, 'platform': None, 'cmc_rank': 1, 'self_reported_circulating_supply': None, 'self_reported_market_cap': None, 'tvl_ratio': None, 'last_updated': '2022-08-31T15:59:00.000Z', 'quote': {'USD': {'price': 20148.369119889867, 'volume_24h': 35824278865.55132, 'volume_change_24h': 10.9445, 'percent_change_1h': -0.0283336, 'percent_change_24h': 1.65268354, 'percent_change_7d': -6.74356992, 'percent_change_30d': -13.63690624, 'percent_change_60d': 4.79703585, 'percent_change_90d': -33.32905521, 'market_cap': 385592174358.46173, 'market_cap_dominance': 39.2716, 'fully_diluted_market_cap': 423115751517.69, 'tvl': None, 'last_updated': '2022-08-31T15:59:00.000Z'}}}, {'id': 1027, 'name': 'Ethereum', 'symbol': 'ETH', 'slug': 'ethereum', 'num_market_pairs': 6066, 'date_added': '2015-08-07T00:00:00.000Z', 'tags': ['mineable', 'pow', 'smart-contracts', 'ethereum-ecosystem', 'coinbase-ventures-portfolio', 'three-arrows-capital-portfolio', 'polychain-capital-portfolio', 'binance-labs-portfolio', 'blockchain-capital-portfolio', 'boostvc-portfolio', 'cms-holdings-portfolio', 'dcg-portfolio', 'dragonfly-capital-portfolio', 'electric-capital-portfolio', 'fabric-ventures-portfolio', 'framework-ventures-portfolio', 'hashkey-capital-portfolio', 'kenetic-capital-portfolio', 'huobi-capital-portfolio', 'alameda-research-portfolio', 'a16z-portfolio', '1confirmation-portfolio', 'winklevoss-capital-portfolio', 'usv-portfolio', 'placeholder-ventures-portfolio', 'pantera-capital-portfolio', 'multicoin-capital-portfolio', 'paradigm-portfolio', 'injective-ecosystem', 'bnb-chain'], 'max_supply': None, 'circulating_supply': 122184858.4365, 'total_supply': 122184858.4365, 'platform': None, 'cmc_rank': 2, 'self_reported_circulating_supply': None, 'self_reported_market_cap': None, 'tvl_ratio': None, 'last_updated': '2022-08-31T15:59:00.000Z', 'quote': {'USD': {'price': 1560.8640816489271, 'volume_24h': 23300885872.349728, 'volume_change_24h': 21.2641, 'percent_change_1h': -0.64715672, 'percent_change_24h': 1.90942293, 'percent_change_7d': -7.05914095, 'percent_change_30d': -6.68580113, 'percent_change_60d': 48.33962846, 'percent_change_90d': -14.12717676, 'market_cap': 190713956854.89172, 'market_cap_dominance': 19.4245, 'fully_diluted_market_cap': 190713956854.89, 'tvl': None, 'last_updated': '2022-08-31T15:59:00.000Z'}}}]}\n"
     ]
    },
    {
     "ename": "NameError",
     "evalue": "name 'pd' is not defined",
     "output_type": "error",
     "traceback": [
      "\u001b[1;31m---------------------------------------------------------------------------\u001b[0m",
      "\u001b[1;31mNameError\u001b[0m                                 Traceback (most recent call last)",
      "Input \u001b[1;32mIn [2]\u001b[0m, in \u001b[0;36m<cell line: 28>\u001b[1;34m()\u001b[0m\n\u001b[0;32m     24\u001b[0m   \u001b[38;5;28mprint\u001b[39m(e)\n\u001b[0;32m     27\u001b[0m     \u001b[38;5;66;03m# Use this if you want to create a csv and append data to it\u001b[39;00m\n\u001b[1;32m---> 28\u001b[0m df \u001b[38;5;241m=\u001b[39m \u001b[43mpd\u001b[49m\u001b[38;5;241m.\u001b[39mjson_normalize(data[\u001b[38;5;124m'\u001b[39m\u001b[38;5;124mdata\u001b[39m\u001b[38;5;124m'\u001b[39m])\n\u001b[0;32m     29\u001b[0m df[\u001b[38;5;124m'\u001b[39m\u001b[38;5;124mtimestamp\u001b[39m\u001b[38;5;124m'\u001b[39m] \u001b[38;5;241m=\u001b[39m pd\u001b[38;5;241m.\u001b[39mto_datetime(\u001b[38;5;124m'\u001b[39m\u001b[38;5;124mnow\u001b[39m\u001b[38;5;124m'\u001b[39m)\n\u001b[0;32m     30\u001b[0m df\n",
      "\u001b[1;31mNameError\u001b[0m: name 'pd' is not defined"
     ]
    }
   ],
   "source": [
    "from requests import Request, Session\n",
    "from requests.exceptions import ConnectionError, Timeout, TooManyRedirects\n",
    "import json\n",
    "\n",
    "url = 'https://pro-api.coinmarketcap.com/v1/cryptocurrency/listings/latest'\n",
    "parameters = {\n",
    "  'start':'1',\n",
    "  'limit':'2',\n",
    "  'convert':'USD'\n",
    "}\n",
    "headers = {\n",
    "  'Accepts': 'application/json',\n",
    "  'X-CMC_PRO_API_KEY': '4cd3ab89-bf9c-4313-8668-debfc47aced4',\n",
    "}\n",
    "\n",
    "session = Session()\n",
    "session.headers.update(headers)\n",
    "\n",
    "try:\n",
    "  response = session.get(url, params=parameters)\n",
    "  data = json.loads(response.text)\n",
    "  print(data)\n",
    "except (ConnectionError, Timeout, TooManyRedirects) as e:\n",
    "  print(e)\n",
    "\n",
    "\n",
    "    # Use this if you want to create a csv and append data to it\n",
    "df = pd.json_normalize(data['data'])\n",
    "df['timestamp'] = pd.to_datetime('now')\n",
    "df\n",
    "\n",
    "if not os.path.isfile(r'C:\\Users\\stephensimpson.CORP\\Desktop\\Python/API.csv'):\n",
    "    df.to_csv(r'C:\\Users\\stephensimpson.CORP\\Desktop\\Python/API.csv', header='column_names')\n",
    "else:\n",
    "    df.to_csv(r'C:\\Users\\stephensimpson.CORP\\Desktop\\Python/API.csv', mode='a', header=False)\n",
    "\n",
    "# If that didn't work try using the local host URL as shown in the video"
   ]
  },
  {
   "cell_type": "code",
   "execution_count": 3,
   "id": "106a9d96",
   "metadata": {},
   "outputs": [
    {
     "data": {
      "text/plain": [
       "dict"
      ]
     },
     "execution_count": 3,
     "metadata": {},
     "output_type": "execute_result"
    }
   ],
   "source": [
    "type(data)"
   ]
  },
  {
   "cell_type": "code",
   "execution_count": 4,
   "id": "00f4b546",
   "metadata": {},
   "outputs": [],
   "source": [
    "import pandas as pd \n",
    "\n",
    "pd.set_option('display.max_columns', None)\n",
    "pd.set_option('display.max_rows', None)"
   ]
  },
  {
   "cell_type": "code",
   "execution_count": 5,
   "id": "ddf2b39d",
   "metadata": {},
   "outputs": [
    {
     "name": "stderr",
     "output_type": "stream",
     "text": [
      "C:\\Users\\stephensimpson.CORP\\Anaconda3\\lib\\site-packages\\pandas\\core\\arrays\\datetimes.py:2199: FutureWarning: The parsing of 'now' in pd.to_datetime without `utc=True` is deprecated. In a future version, this will match Timestamp('now') and Timestamp.now()\n",
      "  result, tz_parsed = tslib.array_to_datetime(\n"
     ]
    },
    {
     "data": {
      "text/html": [
       "<div>\n",
       "<style scoped>\n",
       "    .dataframe tbody tr th:only-of-type {\n",
       "        vertical-align: middle;\n",
       "    }\n",
       "\n",
       "    .dataframe tbody tr th {\n",
       "        vertical-align: top;\n",
       "    }\n",
       "\n",
       "    .dataframe thead th {\n",
       "        text-align: right;\n",
       "    }\n",
       "</style>\n",
       "<table border=\"1\" class=\"dataframe\">\n",
       "  <thead>\n",
       "    <tr style=\"text-align: right;\">\n",
       "      <th></th>\n",
       "      <th>id</th>\n",
       "      <th>name</th>\n",
       "      <th>symbol</th>\n",
       "      <th>slug</th>\n",
       "      <th>num_market_pairs</th>\n",
       "      <th>date_added</th>\n",
       "      <th>tags</th>\n",
       "      <th>max_supply</th>\n",
       "      <th>circulating_supply</th>\n",
       "      <th>total_supply</th>\n",
       "      <th>platform</th>\n",
       "      <th>cmc_rank</th>\n",
       "      <th>self_reported_circulating_supply</th>\n",
       "      <th>self_reported_market_cap</th>\n",
       "      <th>tvl_ratio</th>\n",
       "      <th>last_updated</th>\n",
       "      <th>quote.USD.price</th>\n",
       "      <th>quote.USD.volume_24h</th>\n",
       "      <th>quote.USD.volume_change_24h</th>\n",
       "      <th>quote.USD.percent_change_1h</th>\n",
       "      <th>quote.USD.percent_change_24h</th>\n",
       "      <th>quote.USD.percent_change_7d</th>\n",
       "      <th>quote.USD.percent_change_30d</th>\n",
       "      <th>quote.USD.percent_change_60d</th>\n",
       "      <th>quote.USD.percent_change_90d</th>\n",
       "      <th>quote.USD.market_cap</th>\n",
       "      <th>quote.USD.market_cap_dominance</th>\n",
       "      <th>quote.USD.fully_diluted_market_cap</th>\n",
       "      <th>quote.USD.tvl</th>\n",
       "      <th>quote.USD.last_updated</th>\n",
       "      <th>timestamp</th>\n",
       "    </tr>\n",
       "  </thead>\n",
       "  <tbody>\n",
       "    <tr>\n",
       "      <th>0</th>\n",
       "      <td>1</td>\n",
       "      <td>Bitcoin</td>\n",
       "      <td>BTC</td>\n",
       "      <td>bitcoin</td>\n",
       "      <td>9713</td>\n",
       "      <td>2013-04-28T00:00:00.000Z</td>\n",
       "      <td>[mineable, pow, sha-256, store-of-value, state...</td>\n",
       "      <td>21000000.0</td>\n",
       "      <td>1.913764e+07</td>\n",
       "      <td>1.913764e+07</td>\n",
       "      <td>None</td>\n",
       "      <td>1</td>\n",
       "      <td>None</td>\n",
       "      <td>None</td>\n",
       "      <td>None</td>\n",
       "      <td>2022-08-31T15:59:00.000Z</td>\n",
       "      <td>20148.369120</td>\n",
       "      <td>3.582428e+10</td>\n",
       "      <td>10.9445</td>\n",
       "      <td>-0.028334</td>\n",
       "      <td>1.652684</td>\n",
       "      <td>-6.743570</td>\n",
       "      <td>-13.636906</td>\n",
       "      <td>4.797036</td>\n",
       "      <td>-33.329055</td>\n",
       "      <td>3.855922e+11</td>\n",
       "      <td>39.2716</td>\n",
       "      <td>4.231158e+11</td>\n",
       "      <td>None</td>\n",
       "      <td>2022-08-31T15:59:00.000Z</td>\n",
       "      <td>2022-08-31 16:01:17.361986</td>\n",
       "    </tr>\n",
       "    <tr>\n",
       "      <th>1</th>\n",
       "      <td>1027</td>\n",
       "      <td>Ethereum</td>\n",
       "      <td>ETH</td>\n",
       "      <td>ethereum</td>\n",
       "      <td>6066</td>\n",
       "      <td>2015-08-07T00:00:00.000Z</td>\n",
       "      <td>[mineable, pow, smart-contracts, ethereum-ecos...</td>\n",
       "      <td>NaN</td>\n",
       "      <td>1.221849e+08</td>\n",
       "      <td>1.221849e+08</td>\n",
       "      <td>None</td>\n",
       "      <td>2</td>\n",
       "      <td>None</td>\n",
       "      <td>None</td>\n",
       "      <td>None</td>\n",
       "      <td>2022-08-31T15:59:00.000Z</td>\n",
       "      <td>1560.864082</td>\n",
       "      <td>2.330089e+10</td>\n",
       "      <td>21.2641</td>\n",
       "      <td>-0.647157</td>\n",
       "      <td>1.909423</td>\n",
       "      <td>-7.059141</td>\n",
       "      <td>-6.685801</td>\n",
       "      <td>48.339628</td>\n",
       "      <td>-14.127177</td>\n",
       "      <td>1.907140e+11</td>\n",
       "      <td>19.4245</td>\n",
       "      <td>1.907140e+11</td>\n",
       "      <td>None</td>\n",
       "      <td>2022-08-31T15:59:00.000Z</td>\n",
       "      <td>2022-08-31 16:01:17.361986</td>\n",
       "    </tr>\n",
       "  </tbody>\n",
       "</table>\n",
       "</div>"
      ],
      "text/plain": [
       "     id      name symbol      slug  num_market_pairs  \\\n",
       "0     1   Bitcoin    BTC   bitcoin              9713   \n",
       "1  1027  Ethereum    ETH  ethereum              6066   \n",
       "\n",
       "                 date_added  \\\n",
       "0  2013-04-28T00:00:00.000Z   \n",
       "1  2015-08-07T00:00:00.000Z   \n",
       "\n",
       "                                                tags  max_supply  \\\n",
       "0  [mineable, pow, sha-256, store-of-value, state...  21000000.0   \n",
       "1  [mineable, pow, smart-contracts, ethereum-ecos...         NaN   \n",
       "\n",
       "   circulating_supply  total_supply platform  cmc_rank  \\\n",
       "0        1.913764e+07  1.913764e+07     None         1   \n",
       "1        1.221849e+08  1.221849e+08     None         2   \n",
       "\n",
       "  self_reported_circulating_supply self_reported_market_cap tvl_ratio  \\\n",
       "0                             None                     None      None   \n",
       "1                             None                     None      None   \n",
       "\n",
       "               last_updated  quote.USD.price  quote.USD.volume_24h  \\\n",
       "0  2022-08-31T15:59:00.000Z     20148.369120          3.582428e+10   \n",
       "1  2022-08-31T15:59:00.000Z      1560.864082          2.330089e+10   \n",
       "\n",
       "   quote.USD.volume_change_24h  quote.USD.percent_change_1h  \\\n",
       "0                      10.9445                    -0.028334   \n",
       "1                      21.2641                    -0.647157   \n",
       "\n",
       "   quote.USD.percent_change_24h  quote.USD.percent_change_7d  \\\n",
       "0                      1.652684                    -6.743570   \n",
       "1                      1.909423                    -7.059141   \n",
       "\n",
       "   quote.USD.percent_change_30d  quote.USD.percent_change_60d  \\\n",
       "0                    -13.636906                      4.797036   \n",
       "1                     -6.685801                     48.339628   \n",
       "\n",
       "   quote.USD.percent_change_90d  quote.USD.market_cap  \\\n",
       "0                    -33.329055          3.855922e+11   \n",
       "1                    -14.127177          1.907140e+11   \n",
       "\n",
       "   quote.USD.market_cap_dominance  quote.USD.fully_diluted_market_cap  \\\n",
       "0                         39.2716                        4.231158e+11   \n",
       "1                         19.4245                        1.907140e+11   \n",
       "\n",
       "  quote.USD.tvl    quote.USD.last_updated                  timestamp  \n",
       "0          None  2022-08-31T15:59:00.000Z 2022-08-31 16:01:17.361986  \n",
       "1          None  2022-08-31T15:59:00.000Z 2022-08-31 16:01:17.361986  "
      ]
     },
     "execution_count": 5,
     "metadata": {},
     "output_type": "execute_result"
    }
   ],
   "source": [
    "#Normalize the data\n",
    "df = pd.json_normalize(data['data'])\n",
    "df['timestamp'] = pd.to_datetime('now')\n",
    "df"
   ]
  },
  {
   "cell_type": "code",
   "execution_count": 6,
   "id": "943bf31e",
   "metadata": {},
   "outputs": [],
   "source": [
    "def api_runner():\n",
    "    global df\n",
    "    url = 'https://pro-api.coinmarketcap.com/v1/cryptocurrency/listings/latest' \n",
    "    #Original Sandbox Environment: 'https://sandbox-api.coinmarketcap.com/v1/cryptocurrency/listings/latest'\n",
    "    parameters = {\n",
    "      'start':'1',\n",
    "      'limit':'2',\n",
    "      'convert':'USD'\n",
    "    }\n",
    "    headers = {\n",
    "      'Accepts': 'application/json',\n",
    "      'X-CMC_PRO_API_KEY': '0ad53085-1cb2-4eb8-ad9e-3ffbd7e56509',\n",
    "    }\n",
    "\n",
    "    session = Session()\n",
    "    session.headers.update(headers)\n",
    "\n",
    "    try:\n",
    "      response = session.get(url, params=parameters)\n",
    "      data = json.loads(response.text)\n",
    "      #print(data)\n",
    "    except (ConnectionError, Timeout, TooManyRedirects) as e:\n",
    "      print(e)\n",
    "\n",
    "#NOTE:\n",
    "# I had to go in and put \"jupyter notebook --NotebookApp.iopub_data_rate_limit=1e10\"\n",
    "# Into the Anaconda Prompt to change this to allow to pull data\n",
    "    \n",
    "    # Use this if you just want to keep it in a dataframe\n",
    "    df2 = pd.json_normalize(data['data'])\n",
    "    df2['Timestamp'] = pd.to_datetime('now')\n",
    "    df = df.append(df2)\n",
    "    \n"
   ]
  },
  {
   "cell_type": "code",
   "execution_count": null,
   "id": "f11d922a",
   "metadata": {},
   "outputs": [
    {
     "name": "stderr",
     "output_type": "stream",
     "text": [
      "C:\\Users\\stephensimpson.CORP\\Anaconda3\\lib\\site-packages\\pandas\\core\\arrays\\datetimes.py:2199: FutureWarning: The parsing of 'now' in pd.to_datetime without `utc=True` is deprecated. In a future version, this will match Timestamp('now') and Timestamp.now()\n",
      "  result, tz_parsed = tslib.array_to_datetime(\n",
      "C:\\Users\\stephensimpson.CORP\\AppData\\Local\\Temp\\1\\ipykernel_7892\\2644385086.py:32: FutureWarning: The frame.append method is deprecated and will be removed from pandas in a future version. Use pandas.concat instead.\n",
      "  df = df.append(df2)\n"
     ]
    },
    {
     "name": "stdout",
     "output_type": "stream",
     "text": [
      "API Runner completed\n"
     ]
    }
   ],
   "source": [
    "import os \n",
    "from time import time\n",
    "from time import sleep\n",
    "\n",
    "for i in range(333):\n",
    "    api_runner()\n",
    "    print('API Runner completed')\n",
    "    sleep(43200) #sleep for 12 hours\n",
    "exit()"
   ]
  },
  {
   "cell_type": "code",
   "execution_count": null,
   "id": "b4dcbb92",
   "metadata": {},
   "outputs": [],
   "source": [
    "df"
   ]
  },
  {
   "cell_type": "code",
   "execution_count": null,
   "id": "875c129f",
   "metadata": {},
   "outputs": [],
   "source": [
    "#Reading automated CSV\n",
    "df72 = pd.read_csv(r'C:\\Users\\stephensimpson.CORP\\Desktop\\Python/API.csv')\n",
    "df72"
   ]
  },
  {
   "cell_type": "code",
   "execution_count": null,
   "id": "dd1ae722",
   "metadata": {},
   "outputs": [],
   "source": [
    "pd.set_option('display.float_format',lambda x:'%.5f' % x)"
   ]
  },
  {
   "cell_type": "code",
   "execution_count": null,
   "id": "1f6ede19",
   "metadata": {},
   "outputs": [],
   "source": [
    "df"
   ]
  },
  {
   "cell_type": "code",
   "execution_count": null,
   "id": "4dad3290",
   "metadata": {},
   "outputs": [],
   "source": [
    "df3 = df.groupby('name', sort=False)[['quote.USD.percent_change_1h','quote.USD.percent_change_24h','quote.USD.percent_change_7d','quote.USD.percent_change_30d','quote.USD.percent_change_60d','quote.USD.percent_change_90d']].mean()\n",
    "df3"
   ]
  },
  {
   "cell_type": "code",
   "execution_count": null,
   "id": "47aa9c37",
   "metadata": {},
   "outputs": [],
   "source": [
    "df4 = df3.stack()\n",
    "df4"
   ]
  },
  {
   "cell_type": "code",
   "execution_count": null,
   "id": "b80a2f3c",
   "metadata": {},
   "outputs": [],
   "source": [
    "type(df4)"
   ]
  },
  {
   "cell_type": "code",
   "execution_count": null,
   "id": "7939843a",
   "metadata": {},
   "outputs": [],
   "source": [
    "df5 = df4.to_frame(name='values')\n",
    "df5"
   ]
  },
  {
   "cell_type": "code",
   "execution_count": null,
   "id": "e5f7a870",
   "metadata": {},
   "outputs": [],
   "source": [
    "df5.count()"
   ]
  },
  {
   "cell_type": "code",
   "execution_count": null,
   "id": "c27f69dd",
   "metadata": {
    "scrolled": true
   },
   "outputs": [],
   "source": [
    "#Because of how it's structured above we need to set an index. I don't want to pass a column as an index for this dataframe\n",
    "#So I'm going to create a range and pass that as the dataframe. You can make this more dynamic, but I'm just going to hard code it\n",
    "\n",
    "\n",
    "index = pd.Index(range(12))\n",
    "\n",
    "# Set the above DataFrame index object as the index\n",
    "# using set_index() function\n",
    "df6 = df5.reset_index()\n",
    "df6"
   ]
  },
  {
   "cell_type": "code",
   "execution_count": null,
   "id": "ddbb24ee",
   "metadata": {
    "scrolled": true
   },
   "outputs": [],
   "source": [
    "# Change the column name\n",
    "df7 = df6.rename(columns={'level_1': 'percent_change'})\n",
    "df7"
   ]
  },
  {
   "cell_type": "code",
   "execution_count": null,
   "id": "90b2ff92",
   "metadata": {},
   "outputs": [],
   "source": [
    "df7['percent_change'] = df7['percent_change'].replace(['quote.USD.percent_change_1h','quote.USD.percent_change_24h','quote.USD.percent_change_7d','quote.USD.percent_change_30d','quote.USD.percent_change_60d','quote.USD.percent_change_90d'],['1h','24h','7d','30d','60d','90d'])\n",
    "df7"
   ]
  },
  {
   "cell_type": "code",
   "execution_count": null,
   "id": "e8b0771b",
   "metadata": {},
   "outputs": [],
   "source": [
    "import seaborn as sns\n",
    "import matplotlib.pyplot as plt"
   ]
  },
  {
   "cell_type": "code",
   "execution_count": null,
   "id": "c74aeed6",
   "metadata": {},
   "outputs": [],
   "source": [
    "sns.catplot(x='percent_change', y='values', hue='name', data=df7, kind='point')"
   ]
  },
  {
   "cell_type": "code",
   "execution_count": null,
   "id": "ffa194f6",
   "metadata": {},
   "outputs": [],
   "source": [
    "# Create a dataframe with only Bitcoin\n",
    "\n",
    "df10 = df[['name','quote.USD.price','timestamp']]\n",
    "df10 = df10.query(\"name == 'Bitcoin'\")\n",
    "df10"
   ]
  },
  {
   "cell_type": "code",
   "execution_count": null,
   "id": "4d4a7c0e",
   "metadata": {},
   "outputs": [],
   "source": [
    "sns.set_theme(style=\"darkgrid\")\n",
    "\n",
    "sns.lineplot(x='timestamp', y='quote.USD.price', data = df10)"
   ]
  },
  {
   "cell_type": "code",
   "execution_count": null,
   "id": "ea186857",
   "metadata": {},
   "outputs": [],
   "source": []
  }
 ],
 "metadata": {
  "kernelspec": {
   "display_name": "Python 3 (ipykernel)",
   "language": "python",
   "name": "python3"
  },
  "language_info": {
   "codemirror_mode": {
    "name": "ipython",
    "version": 3
   },
   "file_extension": ".py",
   "mimetype": "text/x-python",
   "name": "python",
   "nbconvert_exporter": "python",
   "pygments_lexer": "ipython3",
   "version": "3.9.12"
  }
 },
 "nbformat": 4,
 "nbformat_minor": 5
}
